{
 "cells": [
  {
   "cell_type": "markdown",
   "metadata": {},
   "source": [
    "### Create input for cutadapt command\n",
    "\n",
    "This notebook is not used anymore. Demux has been performed with `ngsfilter` from the OBITools package ([see the docs for more information](https://pythonhosted.org/OBITools/scripts/ngsfilter.html)."
   ]
  },
  {
   "cell_type": "code",
   "execution_count": 1,
   "metadata": {},
   "outputs": [],
   "source": [
    "import pandas as pd\n",
    "from Bio import SeqIO"
   ]
  },
  {
   "cell_type": "code",
   "execution_count": 2,
   "metadata": {},
   "outputs": [],
   "source": [
    "df = pd.read_excel(\"../Bessey_INV2022_V09_16SFish_1Libraries_FTPSheet_eDNAFrontiers.xlsx\", skiprows=2)"
   ]
  },
  {
   "cell_type": "code",
   "execution_count": 3,
   "metadata": {},
   "outputs": [
    {
     "data": {
      "text/html": [
       "<div>\n",
       "<style scoped>\n",
       "    .dataframe tbody tr th:only-of-type {\n",
       "        vertical-align: middle;\n",
       "    }\n",
       "\n",
       "    .dataframe tbody tr th {\n",
       "        vertical-align: top;\n",
       "    }\n",
       "\n",
       "    .dataframe thead th {\n",
       "        text-align: right;\n",
       "    }\n",
       "</style>\n",
       "<table border=\"1\" class=\"dataframe\">\n",
       "  <thead>\n",
       "    <tr style=\"text-align: right;\">\n",
       "      <th></th>\n",
       "      <th>F Tag seq</th>\n",
       "      <th>R Tag seq</th>\n",
       "    </tr>\n",
       "  </thead>\n",
       "  <tbody>\n",
       "    <tr>\n",
       "      <th>0</th>\n",
       "      <td>AACACCGT</td>\n",
       "      <td>GCGGTATT</td>\n",
       "    </tr>\n",
       "    <tr>\n",
       "      <th>1</th>\n",
       "      <td>AACACCGT</td>\n",
       "      <td>TTGCAGCA</td>\n",
       "    </tr>\n",
       "    <tr>\n",
       "      <th>2</th>\n",
       "      <td>AACACCGT</td>\n",
       "      <td>CGAAGGAT</td>\n",
       "    </tr>\n",
       "    <tr>\n",
       "      <th>3</th>\n",
       "      <td>AACACCGT</td>\n",
       "      <td>AGGTGACT</td>\n",
       "    </tr>\n",
       "    <tr>\n",
       "      <th>4</th>\n",
       "      <td>AACACCGT</td>\n",
       "      <td>GCAGGATA</td>\n",
       "    </tr>\n",
       "    <tr>\n",
       "      <th>...</th>\n",
       "      <td>...</td>\n",
       "      <td>...</td>\n",
       "    </tr>\n",
       "    <tr>\n",
       "      <th>139</th>\n",
       "      <td>ATGGAGGT</td>\n",
       "      <td>AGGTGACT</td>\n",
       "    </tr>\n",
       "    <tr>\n",
       "      <th>140</th>\n",
       "      <td>ATGGAGGT</td>\n",
       "      <td>GCAGGATA</td>\n",
       "    </tr>\n",
       "    <tr>\n",
       "      <th>141</th>\n",
       "      <td>ATGGAGGT</td>\n",
       "      <td>CCTAAGCT</td>\n",
       "    </tr>\n",
       "    <tr>\n",
       "      <th>142</th>\n",
       "      <td>ATGGAGGT</td>\n",
       "      <td>GTCAATGC</td>\n",
       "    </tr>\n",
       "    <tr>\n",
       "      <th>143</th>\n",
       "      <td>ATGGAGGT</td>\n",
       "      <td>TCTGTTCG</td>\n",
       "    </tr>\n",
       "  </tbody>\n",
       "</table>\n",
       "<p>144 rows × 2 columns</p>\n",
       "</div>"
      ],
      "text/plain": [
       "    F Tag seq R Tag seq\n",
       "0    AACACCGT  GCGGTATT\n",
       "1    AACACCGT  TTGCAGCA\n",
       "2    AACACCGT  CGAAGGAT\n",
       "3    AACACCGT  AGGTGACT\n",
       "4    AACACCGT  GCAGGATA\n",
       "..        ...       ...\n",
       "139  ATGGAGGT  AGGTGACT\n",
       "140  ATGGAGGT  GCAGGATA\n",
       "141  ATGGAGGT  CCTAAGCT\n",
       "142  ATGGAGGT  GTCAATGC\n",
       "143  ATGGAGGT  TCTGTTCG\n",
       "\n",
       "[144 rows x 2 columns]"
      ]
     },
     "execution_count": 3,
     "metadata": {},
     "output_type": "execute_result"
    }
   ],
   "source": [
    "df[[\"F Tag seq\", \"R Tag seq\"]].drop_duplicates()"
   ]
  },
  {
   "cell_type": "code",
   "execution_count": 4,
   "metadata": {},
   "outputs": [],
   "source": [
    "with open(\"barcodes_fwd.fasta\", \"w\") as f:\n",
    "    for ix, row in df.iterrows():\n",
    "        f.write(\">{}\\n{}\\n\".format(row[\"Extract\"], row[\"F Tag seq\"]))\n",
    "\n",
    "with open(\"barcodes_rev.fasta\", \"w\") as f:\n",
    "    for ix, row in df.iterrows():\n",
    "        f.write(\">{}\\n{}\\n\".format(row[\"Extract\"], row[\"R Tag seq\"]))"
   ]
  },
  {
   "cell_type": "code",
   "execution_count": 5,
   "metadata": {},
   "outputs": [],
   "source": [
    "df[[\"Extract\", \"F Tag seq\"]].to_csv(\"barcodes_fwd.tsv\", sep=\"\\t\", index=False, header=False)\n",
    "df[[\"Extract\", \"R Tag seq\"]].to_csv(\"barcodes_rev.tsv\", sep=\"\\t\", index=False, header=False)\n",
    "df[[\"Extract\", \"F Tag seq\", \"R Tag seq\"]].to_csv(\"barcodes1.tsv\", sep=\"\\t\", index=False, header=False)\n",
    "df[[\"Extract\", \"R Tag seq\", \"F Tag seq\"]].to_csv(\"barcodes2.tsv\", sep=\"\\t\", index=False, header=False)\n",
    "df[\"F Tag seq_l\"] = df[\"F Tag seq\"].str.lower()\n",
    "df[\"R Tag seq_l\"] = df[\"R Tag seq\"].str.lower()\n",
    "df[[\"Extract\", \"F Tag seq_l\", \"R Tag seq_l\"]].to_csv(\"barcodes1_l.tsv\", sep=\"\\t\", index=False, header=False)\n",
    "df[[\"Extract\", \"R Tag seq_l\", \"F Tag seq_l\"]].to_csv(\"barcodes2_l.tsv\", sep=\"\\t\", index=False, header=False)"
   ]
  },
  {
   "cell_type": "code",
   "execution_count": 6,
   "metadata": {},
   "outputs": [],
   "source": [
    "df[[\"Extract\", \"F Tag seq\", \"R Tag seq\"]].rename(columns={\"Extract\":\"filename\", \"F Tag seq\": \"index1\", \"R Tag seq\": \"index2\"}).to_csv(\"barcodes_defq_1.csv\", index=False)"
   ]
  },
  {
   "cell_type": "code",
   "execution_count": null,
   "metadata": {},
   "outputs": [],
   "source": []
  }
 ],
 "metadata": {
  "kernelspec": {
   "display_name": "Python 3 (ipykernel)",
   "language": "python",
   "name": "python3"
  },
  "language_info": {
   "codemirror_mode": {
    "name": "ipython",
    "version": 3
   },
   "file_extension": ".py",
   "mimetype": "text/x-python",
   "name": "python",
   "nbconvert_exporter": "python",
   "pygments_lexer": "ipython3",
   "version": "3.10.8"
  }
 },
 "nbformat": 4,
 "nbformat_minor": 4
}

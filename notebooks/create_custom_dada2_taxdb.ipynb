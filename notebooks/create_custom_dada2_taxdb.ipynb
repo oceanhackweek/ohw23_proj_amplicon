{
 "cells": [
  {
   "cell_type": "markdown",
   "id": "88816028-3a5b-47c6-ab9a-477d05f0d67c",
   "metadata": {},
   "source": [
    "### Create a custom DADA2 taxonomy database based on the Berry 16S dataset.\n",
    "\n",
    "See the [DADA2 docs](https://benjjneb.github.io/dada2/training.html) for more details."
   ]
  },
  {
   "cell_type": "code",
   "execution_count": 1,
   "id": "2cd89151-e89f-46b3-af2a-df7b91ce5d43",
   "metadata": {},
   "outputs": [],
   "source": [
    "from Bio import SeqIO\n",
    "import pandas as pd\n",
    "import pytaxonkit"
   ]
  },
  {
   "cell_type": "code",
   "execution_count": 2,
   "id": "6adcb7fd-dbe0-41e5-9b61-7bc0ac4e2664",
   "metadata": {},
   "outputs": [],
   "source": [
    "taxids = pd.read_csv(\"../data/refdb/taxids_fish_only.txt\", header=None)\n",
    "\n",
    "lineages = pytaxonkit.lineage(taxids[0].to_list())\n",
    "lineages = lineages.dropna(subset=\"Lineage\")\n",
    "lineages = lineages.drop_duplicates(subset=[\"TaxID\",])\n",
    "lineages = lineages.set_index(\"TaxID\")"
   ]
  },
  {
   "cell_type": "markdown",
   "id": "88af5eff-f621-4def-b81d-f472643a079d",
   "metadata": {},
   "source": [
    "### Formatting for deblur db"
   ]
  },
  {
   "cell_type": "code",
   "execution_count": 24,
   "id": "17c59388-339d-4644-88f9-5656f927ffb8",
   "metadata": {},
   "outputs": [],
   "source": [
    "df = pd.read_csv(\"../data/reftax.tsv\", sep=\"\\t\", header=None)"
   ]
  },
  {
   "cell_type": "code",
   "execution_count": 27,
   "id": "2bed8d56-7136-4bfe-afe0-39da4fa2cfb4",
   "metadata": {},
   "outputs": [],
   "source": [
    "!cp ../data/refseqs.fna ../data/refseqs_bkp.fna\n",
    "!cp ../data/reftax.tsv ../data/reftax_bkp.tsv"
   ]
  },
  {
   "cell_type": "code",
   "execution_count": 35,
   "id": "2eb6a680-f59b-4782-adc5-bbd4c41f60b4",
   "metadata": {},
   "outputs": [],
   "source": [
    "records = SeqIO.parse(\"../data/refseqs_bkp.fna\", \"fasta\")"
   ]
  },
  {
   "cell_type": "code",
   "execution_count": 26,
   "id": "60db0828-3522-44fb-8043-9df2650670cf",
   "metadata": {},
   "outputs": [],
   "source": [
    "df[1] = df[1].apply(lambda l: \";\".join([f\"D_{ix}__{s}\" for ix, s in enumerate(l.split(\";\"))]))"
   ]
  },
  {
   "cell_type": "code",
   "execution_count": 32,
   "id": "b3b41383-2d8b-48a7-98d1-46b4d8477718",
   "metadata": {},
   "outputs": [],
   "source": [
    "df = df.set_index(0)"
   ]
  },
  {
   "cell_type": "code",
   "execution_count": 36,
   "id": "787a3206-5ec8-4ba4-a1d3-703baa5ffc53",
   "metadata": {},
   "outputs": [],
   "source": [
    "with open(\"../data/reftax.fna\", \"w\") as f:\n",
    "    for rec in records:\n",
    "        rec.description = \"\"\n",
    "        SeqIO.write(rec, f, \"fasta\")"
   ]
  },
  {
   "cell_type": "code",
   "execution_count": 39,
   "id": "f15d5d3f-8373-413b-ab9d-8aca7715b6ae",
   "metadata": {},
   "outputs": [],
   "source": [
    "df.to_csv(\"../data/reftax.tsv\", sep=\"\\t\", header=None)"
   ]
  },
  {
   "cell_type": "markdown",
   "id": "c5957122-181c-4f8d-a874-25170430a9e1",
   "metadata": {},
   "source": [
    "### Formatting for ampliseq"
   ]
  },
  {
   "cell_type": "code",
   "execution_count": 3,
   "id": "1199125d-103f-4f07-a779-d2529fc36899",
   "metadata": {},
   "outputs": [],
   "source": [
    "records = SeqIO.parse(\"../data/refdb/db_vnew_fish_only.fasta\", \"fasta\")\n",
    "get_taxid_from_seq = lambda seq: int(seq.description.split(\"merged_taxid={\")[-1].split(\":\")[0])\n",
    "\n",
    "with open(\"../data/refdb/db_vnew_fish_only_dada2_custom.fasta\", \"w\") as f:\n",
    "    with open(\"../data/refdb/db_vnew_fish_only_dada2_custom_sp.fasta\", \"w\") as fsp:\n",
    "        for rec in records:\n",
    "            taxid = get_taxid_from_seq(rec)\n",
    "            rec.id = lineages.loc[taxid, \"Lineage\"].replace(\" \", \"_\") + \";\"\n",
    "            rec.description = str(taxid)\n",
    "            rec.seq = rec.seq.upper()\n",
    "            SeqIO.write(rec, f, \"fasta\")\n",
    "            \n",
    "            # Species file\n",
    "            rec.id = str(taxid)\n",
    "            rec.description = lineages.loc[taxid, \"Lineage\"].split(\";\")[-1]\n",
    "            \n",
    "            SeqIO.write(rec, fsp, \"fasta\")"
   ]
  },
  {
   "cell_type": "code",
   "execution_count": null,
   "id": "8f55cef6-da2e-417c-94be-f761971e908d",
   "metadata": {},
   "outputs": [],
   "source": []
  }
 ],
 "metadata": {
  "kernelspec": {
   "display_name": "Python [conda env:bio-data]",
   "language": "python",
   "name": "conda-env-bio-data-py"
  },
  "language_info": {
   "codemirror_mode": {
    "name": "ipython",
    "version": 3
   },
   "file_extension": ".py",
   "mimetype": "text/x-python",
   "name": "python",
   "nbconvert_exporter": "python",
   "pygments_lexer": "ipython3",
   "version": "3.11.4"
  }
 },
 "nbformat": 4,
 "nbformat_minor": 5
}

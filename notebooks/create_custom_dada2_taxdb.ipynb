{
 "cells": [
  {
   "cell_type": "markdown",
   "id": "88816028-3a5b-47c6-ab9a-477d05f0d67c",
   "metadata": {},
   "source": [
    "### Create a custom DADA2 taxonomy database based on the Berry 16S dataset.\n",
    "\n",
    "See the [DADA2 docs](https://benjjneb.github.io/dada2/training.html) for more details."
   ]
  },
  {
   "cell_type": "code",
   "execution_count": 1,
   "id": "2cd89151-e89f-46b3-af2a-df7b91ce5d43",
   "metadata": {},
   "outputs": [],
   "source": [
    "from Bio import SeqIO\n",
    "import pandas as pd\n",
    "import pytaxonkit"
   ]
  },
  {
   "cell_type": "code",
   "execution_count": 2,
   "id": "6adcb7fd-dbe0-41e5-9b61-7bc0ac4e2664",
   "metadata": {},
   "outputs": [],
   "source": [
    "taxids = pd.read_csv(\"../data/refdb/taxids_fish_only.txt\", header=None)\n",
    "\n",
    "lineages = pytaxonkit.lineage(taxids[0].to_list())\n",
    "lineages = lineages.dropna(subset=\"Lineage\")\n",
    "lineages = lineages.drop_duplicates(subset=[\"TaxID\",])\n",
    "lineages = lineages.set_index(\"TaxID\")"
   ]
  },
  {
   "cell_type": "code",
   "execution_count": 3,
   "id": "1199125d-103f-4f07-a779-d2529fc36899",
   "metadata": {},
   "outputs": [],
   "source": [
    "records = SeqIO.parse(\"../data/refdb/db_vnew_fish_only.fasta\", \"fasta\")\n",
    "get_taxid_from_seq = lambda seq: int(seq.description.split(\"merged_taxid={\")[-1].split(\":\")[0])\n",
    "\n",
    "with open(\"../data/refdb/db_vnew_fish_only_dada2_custom.fasta\", \"w\") as f:\n",
    "    with open(\"../data/refdb/db_vnew_fish_only_dada2_custom_sp.fasta\", \"w\") as fsp:\n",
    "        for rec in records:\n",
    "            taxid = get_taxid_from_seq(rec)\n",
    "            rec.id = lineages.loc[taxid, \"Lineage\"].replace(\" \", \"_\") + \";\"\n",
    "            rec.description = str(taxid)\n",
    "            rec.seq = rec.seq.upper()\n",
    "            SeqIO.write(rec, f, \"fasta\")\n",
    "            \n",
    "            # Species file\n",
    "            rec.id = str(taxid)\n",
    "            rec.description = lineages.loc[taxid, \"Lineage\"].split(\";\")[-1]\n",
    "            \n",
    "            SeqIO.write(rec, fsp, \"fasta\")"
   ]
  },
  {
   "cell_type": "code",
   "execution_count": null,
   "id": "8f55cef6-da2e-417c-94be-f761971e908d",
   "metadata": {},
   "outputs": [],
   "source": []
  }
 ],
 "metadata": {
  "kernelspec": {
   "display_name": "Python [conda env:bio-data]",
   "language": "python",
   "name": "conda-env-bio-data-py"
  },
  "language_info": {
   "codemirror_mode": {
    "name": "ipython",
    "version": 3
   },
   "file_extension": ".py",
   "mimetype": "text/x-python",
   "name": "python",
   "nbconvert_exporter": "python",
   "pygments_lexer": "ipython3",
   "version": "3.11.4"
  }
 },
 "nbformat": 4,
 "nbformat_minor": 5
}

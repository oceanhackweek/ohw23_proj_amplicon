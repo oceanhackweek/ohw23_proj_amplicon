{
 "cells": [
  {
   "cell_type": "markdown",
   "id": "22457e25-ab8a-42ef-b25f-ad9b464aa684",
   "metadata": {},
   "source": [
    "### Filter taxonomies\n",
    "\n",
    "Filter Tax IDs in the `db_vnew.fasta` reference database based on tax IDs."
   ]
  },
  {
   "cell_type": "code",
   "execution_count": 1,
   "id": "929fe9b6-2f8d-41e3-be4d-079f998a76e2",
   "metadata": {},
   "outputs": [],
   "source": [
    "import pytaxonkit\n",
    "import pandas as pd\n",
    "from Bio import SeqIO"
   ]
  },
  {
   "cell_type": "code",
   "execution_count": 2,
   "id": "f032765c-4b63-42e1-96e6-bebd4357b20b",
   "metadata": {},
   "outputs": [],
   "source": [
    "taxids = pd.read_csv(\"../data/refdb/taxids.txt\", header=None)\n",
    "\n",
    "lineages = pytaxonkit.lineage(taxids[0].to_list())\n",
    "lineages = lineages.dropna(subset=\"Lineage\")\n",
    "fish_taxids = lineages[lineages[\"Lineage\"].str.contains(\"Actinopteri|Chondrichthyes\")][\"TaxID\"].to_list()"
   ]
  },
  {
   "cell_type": "markdown",
   "id": "128470c9-30f8-4f30-8354-f99788e79178",
   "metadata": {},
   "source": [
    "Iterate over database file and select only the ones that have Tax IDs in the `fish_taxids` list."
   ]
  },
  {
   "cell_type": "code",
   "execution_count": 3,
   "id": "a1bf85c3-1c61-4ea3-8d90-45bb548e5e6b",
   "metadata": {},
   "outputs": [],
   "source": [
    "records = SeqIO.parse(\"../data/refdb/db_vnew.fasta\", \"fasta\")\n",
    "get_taxid_from_seq = lambda seq: int(seq.description.split(\"merged_taxid={\")[-1].split(\":\")[0])\n",
    "\n",
    "with open(\"../data/refdb/db_vnew_fish_only.fasta\", \"w\") as f:\n",
    "    for rec in records:\n",
    "        taxid = get_taxid_from_seq(rec)\n",
    "        if taxid in fish_taxids:\n",
    "            SeqIO.write(rec, f, \"fasta\")"
   ]
  },
  {
   "cell_type": "markdown",
   "id": "b67f2048-9d0d-4452-afa2-ed1e28e74e73",
   "metadata": {},
   "source": [
    "Check number of sequences in new database."
   ]
  },
  {
   "cell_type": "code",
   "execution_count": 4,
   "id": "5d311971-14db-4739-a2f5-85cd44cbe9f0",
   "metadata": {},
   "outputs": [
    {
     "name": "stdout",
     "output_type": "stream",
     "text": [
      "15894\n"
     ]
    }
   ],
   "source": [
    "!grep -c \">\" ../data/refdb/db_vnew_fish_only.fasta"
   ]
  },
  {
   "cell_type": "code",
   "execution_count": 5,
   "id": "a589d941-109b-4f52-b614-451c27ff2284",
   "metadata": {},
   "outputs": [
    {
     "name": "stdout",
     "output_type": "stream",
     "text": [
      "47592\n"
     ]
    }
   ],
   "source": [
    "!grep -c \">\" ../data/refdb/db_vnew.fasta"
   ]
  },
  {
   "cell_type": "code",
   "execution_count": null,
   "id": "77dc3389-53f3-4362-b3a9-e8ec625dfbfd",
   "metadata": {},
   "outputs": [],
   "source": []
  }
 ],
 "metadata": {
  "kernelspec": {
   "display_name": "Python [conda env:bio-data]",
   "language": "python",
   "name": "conda-env-bio-data-py"
  },
  "language_info": {
   "codemirror_mode": {
    "name": "ipython",
    "version": 3
   },
   "file_extension": ".py",
   "mimetype": "text/x-python",
   "name": "python",
   "nbconvert_exporter": "python",
   "pygments_lexer": "ipython3",
   "version": "3.11.4"
  }
 },
 "nbformat": 4,
 "nbformat_minor": 5
}

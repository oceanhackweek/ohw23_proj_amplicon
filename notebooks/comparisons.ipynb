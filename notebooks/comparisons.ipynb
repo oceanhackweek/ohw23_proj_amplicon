{
 "cells": [
  {
   "cell_type": "markdown",
   "id": "68f66b32-83b2-4f30-b405-66fcbd664e37",
   "metadata": {},
   "source": [
    "# Compare data between pipelines\n",
    "\n",
    "- [x] Standardise data tables between pipelines\n",
    "- [ ] Create distance matrices\n",
    "- [ ] Create ordinations"
   ]
  },
  {
   "cell_type": "code",
   "execution_count": 1,
   "id": "91cebbc2-1425-4f6f-877f-238ec1667ea0",
   "metadata": {},
   "outputs": [],
   "source": [
    "import pandas as pd\n",
    "from pytaxonkit import lineage"
   ]
  },
  {
   "cell_type": "code",
   "execution_count": 3,
   "id": "d8c5d71e-27e8-46eb-b612-dea1f7a4aec0",
   "metadata": {},
   "outputs": [],
   "source": [
    "aseq = pd.read_csv(\"../data/tables/main_tables/ampliseq-rel-table-ASV_with-DADA2-tax.tsv\", sep=\"\\t\").drop(\"ID\", axis=1).fillna(\"\")\n",
    "tour = pd.read_csv(\"../data/tables/main_tables/tourmaline_taxa_sample_table.tsv\", sep=\"\\t\", skiprows=1)\n",
    "obit = pd.read_csv(\"../data/tables/main_tables/OBITools_main_table.tsv\", sep=\"\\t\", low_memory=False)"
   ]
  },
  {
   "cell_type": "code",
   "execution_count": 4,
   "id": "09b15867-4691-4adf-9c33-35dc640ed1eb",
   "metadata": {},
   "outputs": [],
   "source": [
    "samples = tour.columns[1:]\n",
    "remove = ['pcrnegcontrol3',\n",
    "          'pcrposcontrol3',\n",
    "          'pcrposcontrol2',\n",
    "          'pcrposcontrol1',\n",
    "          'I49A',\n",
    "          'I49B',\n",
    "          'I49C',\n",
    "          'I50A',\n",
    "          'I50B',\n",
    "          'I50C',]\n",
    "samples = [i for i in samples if i not in remove]\n",
    "ranks = \"Kingdom Phylum Class Order Family Genus Species\".split()"
   ]
  },
  {
   "cell_type": "code",
   "execution_count": 5,
   "id": "f685edd0-844e-499d-bf1e-acfea695707d",
   "metadata": {},
   "outputs": [],
   "source": [
    "# Formatting Ampliseq table\n",
    "aseq_stats = pd.read_csv(\"../data/ampliseq/ampliseq_results/qiime2/abundance_tables/count_table_filter_stats.tsv\",\n",
    "                         sep=\"\\t\", index_col=0)\n",
    "\n",
    "# Convert relative abundance to absolute based on table counts\n",
    "aseq.loc[:, samples] = aseq_stats[\"filtered_tax_filter\"].loc[samples] * aseq[samples]"
   ]
  },
  {
   "cell_type": "code",
   "execution_count": 6,
   "id": "bf6b73bf-ba65-46d9-9fe7-ac344ac229fd",
   "metadata": {},
   "outputs": [],
   "source": [
    "# Formatting OBITools table\n",
    "obit.columns = [i.replace(\"sample:\", \"\") for i in obit.columns]\n",
    "obit = obit[list(samples) + [\"taxid\",]].set_index(\"taxid\")\n",
    "obit_lineages = lineage(obit.index)\n",
    "obit_lineages = obit_lineages[\"Lineage\"].str.split(\";\", expand=True)\n",
    "obit_lineages.columns = ranks\n",
    "obit = obit_lineages.merge(obit.reset_index(drop=True), left_index=True, right_index=True)"
   ]
  },
  {
   "cell_type": "code",
   "execution_count": 7,
   "id": "19c87cb2-fb2e-4ed2-8be3-35f6307d060d",
   "metadata": {},
   "outputs": [],
   "source": [
    "# Formatting Tourmaline table\n",
    "tour_lineages = tour[\"#OTU ID\"].apply(lambda s:\n",
    "                                      s.replace(\"D_\", \"\").replace(\"__\", \"\")\n",
    "                                     ).str.split(\";\", expand=True).applymap(lambda cell: cell[1:])\n",
    "tour_lineages.columns = ranks\n",
    "tour = tour_lineages.merge(tour.drop(\"#OTU ID\", axis=1), left_index=True, right_index=True)"
   ]
  },
  {
   "cell_type": "code",
   "execution_count": 8,
   "id": "bff6acb3-1885-487e-9c3e-c2b9d4c26ee9",
   "metadata": {},
   "outputs": [],
   "source": [
    "# Standardising all tables\n",
    "aseq[\"Species\"] = aseq[\"Species\"].str.replace(\"_\", \" \").str.replace(\".\", \"\")\n",
    "tour[\"Species\"] = tour[\"Species\"].str.replace(\"_\", \" \").str.replace(\".\", \"\")\n",
    "obit[\"Species\"] = obit[\"Species\"].str.replace(\"_\", \" \").str.replace(\".\", \"\")\n",
    "\n",
    "aseq = aseq[ranks + samples]\n",
    "tour = tour[ranks + samples]\n",
    "obit = obit[ranks + samples]"
   ]
  },
  {
   "cell_type": "code",
   "execution_count": 9,
   "id": "219cffbd-f26a-4978-a8e3-0c1909453ebd",
   "metadata": {},
   "outputs": [
    {
     "data": {
      "text/html": [
       "<div>\n",
       "<style scoped>\n",
       "    .dataframe tbody tr th:only-of-type {\n",
       "        vertical-align: middle;\n",
       "    }\n",
       "\n",
       "    .dataframe tbody tr th {\n",
       "        vertical-align: top;\n",
       "    }\n",
       "\n",
       "    .dataframe thead th {\n",
       "        text-align: right;\n",
       "    }\n",
       "</style>\n",
       "<table border=\"1\" class=\"dataframe\">\n",
       "  <thead>\n",
       "    <tr style=\"text-align: right;\">\n",
       "      <th></th>\n",
       "      <th>aseq</th>\n",
       "      <th>tour</th>\n",
       "      <th>obit</th>\n",
       "    </tr>\n",
       "  </thead>\n",
       "  <tbody>\n",
       "    <tr>\n",
       "      <th>Kingdom</th>\n",
       "      <td>1</td>\n",
       "      <td>1</td>\n",
       "      <td>1</td>\n",
       "    </tr>\n",
       "    <tr>\n",
       "      <th>Phylum</th>\n",
       "      <td>1</td>\n",
       "      <td>1</td>\n",
       "      <td>1</td>\n",
       "    </tr>\n",
       "    <tr>\n",
       "      <th>Class</th>\n",
       "      <td>2</td>\n",
       "      <td>2</td>\n",
       "      <td>2</td>\n",
       "    </tr>\n",
       "    <tr>\n",
       "      <th>Order</th>\n",
       "      <td>39</td>\n",
       "      <td>42</td>\n",
       "      <td>40</td>\n",
       "    </tr>\n",
       "    <tr>\n",
       "      <th>Family</th>\n",
       "      <td>96</td>\n",
       "      <td>125</td>\n",
       "      <td>99</td>\n",
       "    </tr>\n",
       "    <tr>\n",
       "      <th>Genus</th>\n",
       "      <td>162</td>\n",
       "      <td>242</td>\n",
       "      <td>166</td>\n",
       "    </tr>\n",
       "    <tr>\n",
       "      <th>Species</th>\n",
       "      <td>206</td>\n",
       "      <td>267</td>\n",
       "      <td>175</td>\n",
       "    </tr>\n",
       "  </tbody>\n",
       "</table>\n",
       "</div>"
      ],
      "text/plain": [
       "         aseq  tour  obit\n",
       "Kingdom     1     1     1\n",
       "Phylum      1     1     1\n",
       "Class       2     2     2\n",
       "Order      39    42    40\n",
       "Family     96   125    99\n",
       "Genus     162   242   166\n",
       "Species   206   267   175"
      ]
     },
     "execution_count": 9,
     "metadata": {},
     "output_type": "execute_result"
    }
   ],
   "source": [
    "# Generate tables by ranks\n",
    "n_observations = dict()\n",
    "\n",
    "for pipeline in \"aseq\", \"tour\", \"obit\":\n",
    "    df = eval(pipeline)\n",
    "    n_observations[pipeline] = dict()\n",
    "    for rank in ranks:\n",
    "        gb = df.groupby(rank).sum(numeric_only=True)\n",
    "        for term in \"\", \"nassigned\":\n",
    "            try:\n",
    "                gb = gb.drop(term)\n",
    "            except KeyError:\n",
    "                pass\n",
    "        n_observations[pipeline][rank] = len(gb)\n",
    "        gb.to_csv(f\"../data/tables/{pipeline}_{rank}.csv\")\n",
    "        \n",
    "pd.DataFrame(n_observations)"
   ]
  },
  {
   "cell_type": "code",
   "execution_count": null,
   "id": "cb5363e3-91e5-49b4-baa1-7b1b81507be0",
   "metadata": {},
   "outputs": [],
   "source": []
  }
 ],
 "metadata": {
  "kernelspec": {
   "display_name": "Python [conda env:bio-data]",
   "language": "python",
   "name": "conda-env-bio-data-py"
  },
  "language_info": {
   "codemirror_mode": {
    "name": "ipython",
    "version": 3
   },
   "file_extension": ".py",
   "mimetype": "text/x-python",
   "name": "python",
   "nbconvert_exporter": "python",
   "pygments_lexer": "ipython3",
   "version": "3.11.4"
  }
 },
 "nbformat": 4,
 "nbformat_minor": 5
}

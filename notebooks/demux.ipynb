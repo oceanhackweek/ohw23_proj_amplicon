{
 "cells": [
  {
   "cell_type": "markdown",
   "id": "de0bc739-4947-4d25-8cd8-ec67b3d0bf43",
   "metadata": {},
   "source": [
    "# Demux\n",
    "\n",
    "Demultiplex samples based on sequence headers from OBITools `ngsfilter` command."
   ]
  },
  {
   "cell_type": "code",
   "execution_count": null,
   "id": "f038f016-908b-47fa-9048-1ee8f4686c98",
   "metadata": {},
   "outputs": [],
   "source": [
    "from Bio import SeqIO\n",
    "import pandas as pd\n",
    "from glob import glob\n",
    "from pathlib import Path\n",
    "from tqdm import tqdm"
   ]
  },
  {
   "cell_type": "code",
   "execution_count": null,
   "id": "571c2ddd-230f-4a58-b12b-e59288c3f41d",
   "metadata": {},
   "outputs": [],
   "source": [
    "df = pd.read_csv(\"../data/fastq/INV2022_V09_ngsfilter.txt\", sep=\"\\t\", names = \"sample extract tag fprimer rprimer F @\".split())\n",
    "records = SeqIO.parse(\"../data/fastq/ngsfilter/fastp_assigned.out\", \"fastq\")"
   ]
  },
  {
   "cell_type": "code",
   "execution_count": null,
   "id": "ecdd4e32-1fe1-4f93-a729-6bef8fae7afd",
   "metadata": {},
   "outputs": [],
   "source": [
    "handles = {k: open(f\"../data/fastq/demux/fastp/{k}_fastp.fastq\", \"w\") for k in df[\"extract\"].to_list()}"
   ]
  },
  {
   "cell_type": "code",
   "execution_count": null,
   "id": "c7fd9a16-108b-417b-b941-416685fd7a82",
   "metadata": {},
   "outputs": [],
   "source": [
    "get_sample_from_description = lambda seq: str(seq.description.split(\"sample=\")[-1].split(\";\")[0])"
   ]
  },
  {
   "cell_type": "code",
   "execution_count": null,
   "id": "78fea2d7-cb7f-43f4-8f8e-fb0019c0a5ba",
   "metadata": {},
   "outputs": [],
   "source": [
    "for ix, rec in enumerate(records):\n",
    "    if (ix > 0) and (ix % 100000 == 0):\n",
    "        print(f\"Processed {ix} records.\", end=\"\\r\")\n",
    "    sample = get_sample_from_description(rec)\n",
    "    rec.description = \"\"\n",
    "    rec.seq = rec.seq.upper()\n",
    "    SeqIO.write(rec, handles[sample], \"fastq\")"
   ]
  },
  {
   "cell_type": "code",
   "execution_count": null,
   "id": "0ed439fb-3349-44b9-979c-4714b3c537c7",
   "metadata": {},
   "outputs": [],
   "source": [
    "!gzip ../data/fastq/demux/fastp/*.fastq"
   ]
  },
  {
   "cell_type": "code",
   "execution_count": null,
   "id": "098e90ed-54bd-4cbd-925d-ed4f9409fdab",
   "metadata": {},
   "outputs": [],
   "source": [
    "samples = {i.split(\"/\")[-1].split(\"_fastp\")[0]: str(Path(i).absolute()) for\n",
    "           i in glob(\"../data/fastq/demux/fastp/*.fastq.gz\")}\n"
   ]
  },
  {
   "cell_type": "code",
   "execution_count": null,
   "id": "22bf4695-8585-4a99-a36c-38d4145703e4",
   "metadata": {},
   "outputs": [],
   "source": [
    "df = pd.DataFrame()"
   ]
  },
  {
   "cell_type": "code",
   "execution_count": null,
   "id": "9062640f-0ff8-4d1b-a6ea-d0d4323653ea",
   "metadata": {},
   "outputs": [],
   "source": [
    "df[\"sampleID\"] = samples.keys()\n",
    "df[\"forwardReads\"] = samples.values()"
   ]
  },
  {
   "cell_type": "code",
   "execution_count": null,
   "id": "4baa61cf-e0a6-4c59-b885-bd8f3a7e3c00",
   "metadata": {},
   "outputs": [],
   "source": [
    "df.to_csv(\"../data/ampliseq/samplesheet.tsv\", sep=\"\\t\", index=False)"
   ]
  },
  {
   "cell_type": "code",
   "execution_count": null,
   "id": "f91553a4-7107-4739-9885-44909a4146bf",
   "metadata": {},
   "outputs": [],
   "source": []
  }
 ],
 "metadata": {
  "kernelspec": {
   "display_name": "Python [conda env:bio-data]",
   "language": "python",
   "name": "conda-env-bio-data-py"
  },
  "language_info": {
   "codemirror_mode": {
    "name": "ipython",
    "version": 3
   },
   "file_extension": ".py",
   "mimetype": "text/x-python",
   "name": "python",
   "nbconvert_exporter": "python",
   "pygments_lexer": "ipython3",
   "version": "3.11.4"
  }
 },
 "nbformat": 4,
 "nbformat_minor": 5
}
